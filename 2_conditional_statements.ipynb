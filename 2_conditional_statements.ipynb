{
 "cells": [
  {
   "cell_type": "markdown",
   "metadata": {},
   "source": [
    "# Conditional Statements"
   ]
  },
  {
   "cell_type": "markdown",
   "metadata": {},
   "source": [
    "Conditional statements allow you to make decisions and execute different blocks of code based on certain conditions. Conditional statments are used when we have to control the flow of the program."
   ]
  },
  {
   "cell_type": "markdown",
   "metadata": {},
   "source": [
    "In Python, we use `if`, `elif` (short for \"else if\"), and `else` statements. These conditional statements allow us to execute specific blocks of code only when the conditions are met.\n",
    "\n",
    "To check conditions, we make use of comparison operators within the conditional statements. These operators compare values and return either `True` or `False`.\n",
    "\n",
    "Now, let's explore some examples to understand how these conditional statements work in Python. We'll use comparison operators to evaluate the conditions."
   ]
  },
  {
   "cell_type": "markdown",
   "metadata": {},
   "source": [
    "## `if`, `elif`, `else`"
   ]
  },
  {
   "cell_type": "markdown",
   "metadata": {},
   "source": [
    "### `if` statement\n",
    "\n",
    "The `if` statement is used to execute a block of code if a specific condition is true. It has the following syntax:"
   ]
  },
  {
   "cell_type": "markdown",
   "metadata": {},
   "source": [
    "```python\n",
    "if condition:\n",
    "    # code to execute if the condition is true\n",
    "```"
   ]
  },
  {
   "cell_type": "markdown",
   "metadata": {},
   "source": [
    "The condition can be any expression that evaluates to either True or False. If the condition is true, the indented code block under the \"if\" statement will be executed. If the condition is false, the code block will be skipped."
   ]
  },
  {
   "cell_type": "code",
   "execution_count": 1,
   "metadata": {},
   "outputs": [],
   "source": [
    "a = 2\n",
    "b = 5\n",
    "if a > b: # Here we are trying to find if a is greater than b\n",
    "    print('a is greater')    "
   ]
  },
  {
   "cell_type": "markdown",
   "metadata": {},
   "source": [
    "### `elif` statement \n",
    "\n",
    "The `elif` statement allows you to check additional conditions after the `if` statement. It is short for *else if*. Here's the syntax:"
   ]
  },
  {
   "cell_type": "markdown",
   "metadata": {},
   "source": [
    "```python\n",
    "if condition1:\n",
    "    # code to execute if condition1 is true\n",
    "elif condition2:\n",
    "    # code to execute if condition2 is true\n",
    "elif condition3:\n",
    "    # code to execute if condition3 is true\n",
    "# ...more elif statements can be added if needed\n",
    "```"
   ]
  },
  {
   "cell_type": "markdown",
   "metadata": {},
   "source": [
    "The `elif` statement is optional, and you can have as many as you need. Each condition is evaluated in order. If any condition is true, the corresponding code block will be executed, and the remaining conditions will be skipped."
   ]
  },
  {
   "cell_type": "code",
   "execution_count": null,
   "metadata": {},
   "outputs": [],
   "source": [
    "if a > b: # Here we are trying to find if a is greater than b\n",
    "    print('a is greater')\n",
    "elif a < b: # Here we are trying to find if b is greater than a\n",
    "    print('b is greater')"
   ]
  },
  {
   "cell_type": "markdown",
   "metadata": {},
   "source": [
    "### `else` statement\n",
    "\n",
    "The `else` statement is used to provide a default code block to execute when all preceding conditions are false. It follows the `if` or `elif` statements and has the following syntax:"
   ]
  },
  {
   "cell_type": "markdown",
   "metadata": {},
   "source": [
    "```python\n",
    "if condition:\n",
    "    # code to execute if the condition is true\n",
    "else:\n",
    "    # code to execute if the condition is false\n",
    "```"
   ]
  },
  {
   "cell_type": "markdown",
   "metadata": {},
   "source": [
    "or"
   ]
  },
  {
   "cell_type": "markdown",
   "metadata": {},
   "source": [
    "```python\n",
    "if condition1:\n",
    "    # code to execute if condition1 is true\n",
    "elif condition2:\n",
    "    # code to execute if condition2 is true\n",
    "elif condition3:\n",
    "    # code to execute if condition3 is true\n",
    "# ...more elif statements can be added if needed\n",
    "else:\n",
    "    # code to execute if all conditions are false\n",
    "```"
   ]
  },
  {
   "cell_type": "markdown",
   "metadata": {},
   "source": [
    "The `else` statement does not have a condition associated with it. If all preceding conditions are false, the code block under the `else` statement will be executed."
   ]
  },
  {
   "cell_type": "code",
   "execution_count": null,
   "metadata": {},
   "outputs": [],
   "source": [
    "if a > b: # Here we are trying to find if which is greater, a or b\n",
    "    print('a is greater')  \n",
    "else:\n",
    "    print('b is greater than a or both are equal')"
   ]
  },
  {
   "cell_type": "code",
   "execution_count": null,
   "metadata": {},
   "outputs": [],
   "source": [
    "if a > b: # Here we are trying to find if a is greater than b\n",
    "    print('a is greater')\n",
    "elif a < b: # Here we are trying to find if b is greater than a\n",
    "    print('b is greater')\n",
    "else: # If none of the above are True, then we execute the else statement\n",
    "    print('a and b are equal')"
   ]
  },
  {
   "cell_type": "markdown",
   "metadata": {},
   "source": [
    "Pay attention to the colon `:` after the condition or `else`, as this marks the starting point of the code to be executed. "
   ]
  },
  {
   "cell_type": "markdown",
   "metadata": {},
   "source": [
    "## Indentation"
   ]
  },
  {
   "cell_type": "markdown",
   "metadata": {},
   "source": [
    "As you can see, in the previous code, the first `print()` statement doesn't start from the leftmost. They are a bit displaced to the right. This is done to indicate that the following code is going to be executed if the condition is met. Otherwise, Python will consider that the code has nothing to do with the if condition. The same applies to the  `print()` function after the `elif` and the `else:`. This is called *indentation* and it's automatically applied by Jupyter every time you type `:`. "
   ]
  },
  {
   "cell_type": "code",
   "execution_count": null,
   "metadata": {},
   "outputs": [],
   "source": [
    "if a > b: # Here we are trying to find if a is greater than b\n",
    "    print('a is greater')\n",
    "elif a < b: # Here we are trying to find if b is greater than a\n",
    "    print('b is greater')\n",
    "print(\"Done!\")"
   ]
  },
  {
   "cell_type": "markdown",
   "metadata": {},
   "source": [
    "In the previous code the last `print(\"Done!\")` will be executed regardeless of the `a > b` or `a < b` condition because it is not *indented*."
   ]
  },
  {
   "cell_type": "markdown",
   "metadata": {},
   "source": [
    "In Python, statements with the same indentation are all executed as part of the code block associated with the condition."
   ]
  },
  {
   "cell_type": "markdown",
   "metadata": {},
   "source": [
    "For example:\n",
    "\n",
    "```python\n",
    "if condition:\n",
    "    statement1\n",
    "    statement2\n",
    "    statement3\n",
    "    # ...\n",
    "```\n",
    "\n",
    "In this case, if the condition is true, all the statements indented under the \"if\" statement will be executed. It provides a way to perform multiple actions when a specific condition is satisfied.\n",
    "\n",
    "This feature allows you to group related statements together and control their execution based on the condition's result. You can include any number of statements within the indented code block."
   ]
  },
  {
   "cell_type": "markdown",
   "metadata": {},
   "source": [
    "Keep in mind that proper indentation is crucial in Python to determine the code's structure and execution flow. It is recommended to use consistent indentation using spaces or tabs throughout your code to ensure clarity and avoid syntax errors.\n",
    "\n",
    "By utilizing this implementation, you can execute multiple statements as part of an \"if\" block, leveraging the power and flexibility of conditional statements in Python."
   ]
  },
  {
   "cell_type": "code",
   "execution_count": null,
   "metadata": {},
   "outputs": [],
   "source": [
    "a = 5\n",
    "b = 2\n",
    "\n",
    "# Pay attention to the indentation here. \n",
    "# All the statements with the same indendation will be executed.\n",
    "if a>b:                     \n",
    "    print('a is greater')      \n",
    "    print('Value of a is',a)  \n",
    "    print('And value of b is',b)\n",
    "elif b>a:\n",
    "    print('b is greater')\n",
    "    print('Value of a is', a)\n",
    "    print('And value of b is',b)\n",
    "else:\n",
    "    print('they both are equal')\n",
    "    \n",
    "# In this case, the first condition is true. \n",
    "# Hence only the statements within 'IF' are executed "
   ]
  },
  {
   "cell_type": "markdown",
   "metadata": {},
   "source": [
    "Now we will look at the same example as above with different values of 'a' and 'b'"
   ]
  },
  {
   "cell_type": "code",
   "execution_count": 2,
   "metadata": {},
   "outputs": [
    {
     "name": "stdout",
     "output_type": "stream",
     "text": [
      "they both are equal\n"
     ]
    }
   ],
   "source": [
    "a = 10\n",
    "b = 10\n",
    "# Pay attention to the indentation here. \n",
    "# All the statements with the same indendation will be executed.\n",
    "\n",
    "if a>b:                     \n",
    "    print('a is greater')       \n",
    "    print('Value of a is',a)  \n",
    "    print('And value of b is',b)\n",
    "elif b>a:\n",
    "    print('b is greater')\n",
    "    print('Value of a is', a)\n",
    "    print('And value of b is',b)\n",
    "else:\n",
    "    print('they both are equal')\n",
    "    \n",
    "# In this case, the second condition is True. \n",
    "# Hence only the statements within 'ELIF' are executed "
   ]
  },
  {
   "cell_type": "markdown",
   "metadata": {},
   "source": [
    "💡 Check for understanding:\n",
    "\n",
    "- What will happen if 'a' and 'b' have the same value?\n",
    "- Assign same value to the variables 'a' and 'b' and see the results "
   ]
  },
  {
   "cell_type": "code",
   "execution_count": 3,
   "metadata": {},
   "outputs": [],
   "source": [
    "# Your answer here --> Else applies"
   ]
  },
  {
   "cell_type": "markdown",
   "metadata": {},
   "source": [
    "## Flowchart"
   ]
  },
  {
   "cell_type": "markdown",
   "metadata": {},
   "source": [
    "A flowchart is a graphical representation of a program's control flow. It uses different shapes and arrows to illustrate the sequence of steps and decisions in a program. In the case of an IF statement, a flowchart helps us understand the path the program will take based on the condition's evaluation."
   ]
  },
  {
   "cell_type": "markdown",
   "metadata": {},
   "source": [
    "Here is a simple flowchart for `if`-`else` statements"
   ]
  },
  {
   "cell_type": "markdown",
   "metadata": {},
   "source": [
    "<img src=\"https://education-team-2020.s3-eu-west-1.amazonaws.com/data-analytics/prework/unit1/conditional_statement_if_else.png\" width=300 height=300>"
   ]
  },
  {
   "cell_type": "markdown",
   "metadata": {},
   "source": [
    "Here is a simple flowchart for `if`-`elif`-`else` statements"
   ]
  },
  {
   "cell_type": "markdown",
   "metadata": {},
   "source": [
    "<img src = \"https://education-team-2020.s3-eu-west-1.amazonaws.com/data-analytics/prework/unit1/conditional_statements_if_elseIf_else.png\">"
   ]
  },
  {
   "cell_type": "markdown",
   "metadata": {},
   "source": [
    "## More examples"
   ]
  },
  {
   "cell_type": "markdown",
   "metadata": {},
   "source": [
    "Example 1: Checking if a number is positive, negative, or zero"
   ]
  },
  {
   "cell_type": "code",
   "execution_count": 4,
   "metadata": {},
   "outputs": [
    {
     "name": "stdout",
     "output_type": "stream",
     "text": [
      "The number is positive.\n"
     ]
    }
   ],
   "source": [
    "number = int(input(\"Enter a number: \"))\n",
    "\n",
    "if number > 0:\n",
    "    print(\"The number is positive.\")\n",
    "elif number < 0:\n",
    "    print(\"The number is negative.\")\n",
    "else:\n",
    "    print(\"The number is zero.\")\n"
   ]
  },
  {
   "cell_type": "markdown",
   "metadata": {},
   "source": [
    "In this example, we use an `if-elif-else` structure to determine whether a number is positive, negative, or zero. The condition number > 0 is checked first. If it is true, the code block under the `if` statement will be executed. If it's false, the next condition number < 0 will be evaluated. If this condition is true, the corresponding code block under the `elif` statement will be executed. If both conditions are false, the code block under the `else` statement will be executed as the default."
   ]
  },
  {
   "cell_type": "markdown",
   "metadata": {},
   "source": [
    "Example 2: Determining the grade based on a percentage"
   ]
  },
  {
   "cell_type": "code",
   "execution_count": null,
   "metadata": {},
   "outputs": [],
   "source": [
    "percentage = float(input(\"Enter the percentage: \"))\n",
    "\n",
    "if percentage >= 90:\n",
    "    grade = \"A\"\n",
    "elif percentage >= 80:\n",
    "    grade = \"B\"\n",
    "elif percentage >= 70:\n",
    "    grade = \"C\"\n",
    "elif percentage >= 60:\n",
    "    grade = \"D\"\n",
    "else:\n",
    "    grade = \"F\"\n",
    "\n",
    "print(\"Your grade is:\", grade)\n"
   ]
  },
  {
   "cell_type": "markdown",
   "metadata": {},
   "source": [
    "In this example, we prompt the user to enter a percentage, which we store in the percentage variable. We then use a series of if and elif statements to check the value of percentage against different ranges. Based on the percentage, we assign a corresponding grade to the grade variable. Finally, we print the grade to the console.\n",
    "\n",
    "These examples illustrate how conditional statements can be used to make decisions in Python based on different conditions. By using if, elif, and else statements, along with comparison operators, you can control the flow of your code and execute specific blocks based on the evaluated conditions. Feel free to modify and experiment with these examples to deepen your understanding."
   ]
  },
  {
   "cell_type": "markdown",
   "metadata": {},
   "source": [
    "## Multiple Conditions with Logical Operators"
   ]
  },
  {
   "cell_type": "markdown",
   "metadata": {},
   "source": [
    "Logical operators in Python help us combine multiple conditions in conditional statements. The three commonly used logical operators, as already seen in the previous lesson, are:\n",
    "\n",
    "`and`: The `and` operator returns True if both conditions on either side of it are true. Otherwise, it returns False.\n",
    "\n",
    "`or`: The `or` operator returns True if at least one of the conditions on either side of it is true. It returns False only when both conditions are false.\n",
    "\n",
    "`not`: The `not` operator negates the value of the condition. If the condition is true, it returns False, and vice versa.\n",
    "\n",
    "By using these logical operators, we can connect multiple conditions within a single conditional statement and create complex decision-making structures."
   ]
  },
  {
   "cell_type": "markdown",
   "metadata": {},
   "source": [
    "Let's look at an example to understand how multiple conditions with logical operators can be implemented in Python:"
   ]
  },
  {
   "cell_type": "code",
   "execution_count": null,
   "metadata": {},
   "outputs": [],
   "source": [
    "number = int(input(\"Enter a number: \"))\n",
    "\n",
    "if number > 0 and number % 2 == 0:\n",
    "    print(\"The number is positive and even.\")\n",
    "elif number < 0 or number % 2 != 0:\n",
    "    print(\"The number is negative or odd.\")\n",
    "else:\n",
    "    print(\"The number is zero.\")\n"
   ]
  },
  {
   "cell_type": "markdown",
   "metadata": {},
   "source": [
    "In this example, we prompt the user to enter a number, which we store in the number variable. We use logical operators to create multiple conditions within the conditional statement:\n",
    "\n",
    "- In the if statement, we combine two conditions using the \"and\" operator: number > 0 checks if the number is positive, and number % 2 == 0 checks if it is even. If both conditions are true, the code block under the if statement will execute, printing \"The number is positive and even.\"\n",
    "\n",
    "- In the elif statement, we combine two conditions using the \"or\" operator: number < 0 checks if the number is negative, and number % 2 != 0 checks if it is odd. If at least one of these conditions is true, the code block under the elif statement will execute, printing \"The number is negative or odd.\"\n",
    "\n",
    "- If none of the conditions in the if and elif statements are true, the code block under the else statement will execute, printing \"The number is zero.\"\n",
    "\n",
    "By combining multiple conditions with logical operators, we can create more complex decision-making structures and handle a wider range of possibilities in our programs.\n",
    "\n"
   ]
  },
  {
   "cell_type": "markdown",
   "metadata": {},
   "source": [
    "Another example. Let's find the greatest of three numbers."
   ]
  },
  {
   "cell_type": "code",
   "execution_count": null,
   "metadata": {},
   "outputs": [],
   "source": [
    "a = 5 \n",
    "b = 10\n",
    "c = 20\n",
    "\n",
    "if a>b and a>c:                 \n",
    "    print('a is the greatest')\n",
    "elif b>a and b>c:\n",
    "    print('b is the greatest')\n",
    "elif c>a and c>b:\n",
    "    print('c is the greatest')\n",
    "else:\n",
    "    print('There is a tie somewhere')"
   ]
  },
  {
   "cell_type": "markdown",
   "metadata": {},
   "source": [
    "In this case, since we are using `and`, the conditions return true only when both  conditions are met. When one condition is met, then all the code within that conditional operator is executed."
   ]
  },
  {
   "cell_type": "markdown",
   "metadata": {},
   "source": [
    "### Nested Conditional Statements "
   ]
  },
  {
   "cell_type": "markdown",
   "metadata": {},
   "source": [
    "In programming, there are situations where we need to make decisions within decisions, creating complex decision-making structures. Nested conditional statements allow us to achieve this by placing one conditional statement inside another. "
   ]
  },
  {
   "cell_type": "markdown",
   "metadata": {},
   "source": [
    "A nested conditional statement is a conditional statement (if, elif, or else) that is placed inside another conditional statement. By nesting these statements, we can evaluate multiple conditions at different levels and execute specific code blocks accordingly.\n",
    "\n",
    "The structure of nested conditional statements is as follows:"
   ]
  },
  {
   "cell_type": "markdown",
   "metadata": {},
   "source": [
    "```python\n",
    "if condition1:\n",
    "    # code block for condition1\n",
    "    if condition2:\n",
    "        # code block for condition2\n",
    "    elif condition3:\n",
    "        # code block for condition3\n",
    "    else:\n",
    "        # code block if condition2 and condition3 are false\n",
    "else:\n",
    "    # code block if condition1 is false\n",
    "\n",
    "```"
   ]
  },
  {
   "cell_type": "markdown",
   "metadata": {},
   "source": [
    "Here's how it works:\n",
    "\n",
    "- The outer if statement is evaluated based on condition1. If condition1 is true, the code block associated with it is executed.\n",
    "\n",
    "- Inside the code block of the outer if statement, another conditional statement can be placed. It can be an if, elif, or else statement, forming a nested structure.\n",
    "\n",
    "- The nested conditional statements inside the code block of the outer if statement are evaluated only if the outer if condition is true.\n",
    "\n",
    "- Depending on the evaluation of the nested conditions, the corresponding code blocks are executed.\n",
    "\n",
    "- If none of the conditions in the nested statements are true, the code block associated with the outer else statement (if present) is executed.\n",
    "\n",
    "Nested conditional statements allow for intricate decision-making structures by evaluating conditions at different levels and executing code blocks accordingly."
   ]
  },
  {
   "cell_type": "markdown",
   "metadata": {},
   "source": [
    "Let's look at an example to understand how nested conditional statements can be implemented in Python:\n",
    "\n"
   ]
  },
  {
   "cell_type": "code",
   "execution_count": null,
   "metadata": {},
   "outputs": [],
   "source": [
    "number = int(input(\"Enter a number: \"))\n",
    "\n",
    "if number > 0:\n",
    "    print(\"The number is positive.\")\n",
    "    \n",
    "    if number % 2 == 0:\n",
    "        print(\"The number is even.\")\n",
    "    else:\n",
    "        print(\"The number is odd.\")\n",
    "        \n",
    "else:\n",
    "    print(\"The number is either zero or negative.\")\n"
   ]
  },
  {
   "cell_type": "markdown",
   "metadata": {},
   "source": [
    "In this example, we prompt the user to enter a number, which we store in the number variable. We implement nested conditional statements as follows:\n",
    "\n",
    "- The outer if statement checks if number is greater than 0. If it is true, the code block under the outer if statement is executed, printing \"The number is positive.\"\n",
    "\n",
    "- Inside the code block of the outer if statement, we have another if-else structure. It checks whether number is even or odd. If number % 2 == 0, the code block under the nested if statement is executed, printing \"The number is even.\" Otherwise, if the condition is false, the code block under the nested else statement is executed, printing \"The number is odd.\"\n",
    "\n",
    "- If the condition in the outer if statement is false, the code block under the outer else statement is executed, printing \"The number is either zero or negative.\"\n",
    "\n",
    "By nesting conditional statements, we can create complex decision-making structures that handle various possibilities based on multiple conditions."
   ]
  },
  {
   "cell_type": "markdown",
   "metadata": {},
   "source": [
    "## Exercises"
   ]
  },
  {
   "cell_type": "markdown",
   "metadata": {},
   "source": [
    "1. Write a program that prompts the user to enter two numbers and determines which number is larger or if they are equal."
   ]
  },
  {
   "cell_type": "code",
   "execution_count": 7,
   "metadata": {},
   "outputs": [
    {
     "name": "stdout",
     "output_type": "stream",
     "text": [
      "They are equal\n"
     ]
    }
   ],
   "source": [
    "number1 = input(\"first number:\")\n",
    "number2 = input(\"second number:\")\n",
    "\n",
    "if number1 > number2:\n",
    "    print(f\"{number1} is bigger than {number2}\")\n",
    "elif number1 == number2:\n",
    "    print(\"They are equal\")\n",
    "\n",
    "else:\n",
    "    print(f\"{number2} is bigger than {number1}\")"
   ]
  },
  {
   "cell_type": "markdown",
   "metadata": {},
   "source": [
    "2. Write a program that prompts the user to enter a numerical grade and prints the corresponding grade classification according to the following criteria:\n",
    "\n",
    "- Grades 90 and above: \"A\"\n",
    "- Grades 80-89: \"B\"\n",
    "- Grades 70-79: \"C\"\n",
    "- Grades 60-69: \"D\"\n",
    "- Grades below 60: \"F\""
   ]
  },
  {
   "cell_type": "code",
   "execution_count": 14,
   "metadata": {},
   "outputs": [
    {
     "name": "stdout",
     "output_type": "stream",
     "text": [
      "Your grade is: F\n"
     ]
    }
   ],
   "source": [
    "percentage = float(input(\"Enter the percentage: \"))\n",
    "\n",
    "if percentage >= 90:\n",
    "    grade = \"A\"\n",
    "elif percentage >= 80:\n",
    "    grade = \"B\"\n",
    "elif percentage >= 70:\n",
    "    grade = \"C\"\n",
    "elif percentage >= 60:\n",
    "    grade = \"D\"\n",
    "else:\n",
    "    grade = \"F\"\n",
    "\n",
    "print(\"Your grade is:\", grade)\n"
   ]
  },
  {
   "cell_type": "markdown",
   "metadata": {},
   "source": [
    "3. Write a program that prompts the user to enter a letter of the alphabet and determines whether it is a vowel or a consonant. Consider both uppercase and lowercase letters.\n",
    "\n",
    "Hint:\n",
    "\n",
    "Convert the letter to lowercase using the lower() method to handle both uppercase and lowercase letters.\n",
    "\n",
    "The lower() method is a built-in string method in Python that returns a new string with all the characters converted to lowercase. Here's how it works:\n",
    "```python\n",
    "string.lower()\n",
    "```\n",
    "\n",
    "The lower() method returns a new string with all the characters converted to lowercase. The original string remains unchanged. This means that you should save the result in a variable."
   ]
  },
  {
   "cell_type": "markdown",
   "metadata": {},
   "source": [
    "Example:\n",
    "\n",
    "```python\n",
    "message = \"Hello, World!\"\n",
    "lowercase_message = message.lower()\n",
    "print(lowercase_message)  # Output: hello, world!\n",
    "```"
   ]
  },
  {
   "cell_type": "markdown",
   "metadata": {},
   "source": [
    "In this example, the string \"Hello, World!\" is assigned to the variable message. When we call the lower() method on message, it returns a new string \"hello, world!\" with all the characters converted to lowercase. We then assign this new string to the variable lowercase_message and print its value."
   ]
  },
  {
   "cell_type": "markdown",
   "metadata": {},
   "source": [
    "The lower() method is often used to perform case-insensitive comparisons. By converting all characters to lowercase, we can compare strings without worrying about differences in letter case."
   ]
  },
  {
   "cell_type": "code",
   "execution_count": 18,
   "metadata": {},
   "outputs": [
    {
     "name": "stdout",
     "output_type": "stream",
     "text": [
      "not a vowel\n"
     ]
    }
   ],
   "source": [
    "vowels =\"aeiou\"\n",
    "\n",
    "letter = input(\"What is the letter\")\n",
    "\n",
    "if letter.lower() in vowels:\n",
    "    print(\"Is a vowel\")\n",
    "else:\n",
    "    print(\"not a vowel\")\n"
   ]
  },
  {
   "cell_type": "markdown",
   "metadata": {},
   "source": [
    "**Bonus Exercise** \n",
    "\n",
    "We want the user to input a number and check if the number is even, odd, or zero. But we want to ensure the code handles invalid input, such as the user entering text. To do so, follow these steps:\n",
    "\n",
    "1. Prompt the user to enter an integer.\n",
    "\n",
    "2. Before proceeding further, check if the entered input is a valid number using appropriate validation techniques. If the input is not a number (i.e., it contains letters or symbols), print a message indicating that the input was not an integer.\n",
    "\n",
    "3. If the input is a number, perform the following checks:\n",
    "\n",
    "- If the number is zero, print a message indicating that the number is zero.\n",
    "- If the number is even (i.e., divisible by 2 with no remainder), print a message indicating that the number is even.\n",
    "- If the number is odd (i.e., not divisible by 2), print a message indicating that the number is odd.\n",
    "\n",
    "Hint: search for the method *isdigit()*."
   ]
  },
  {
   "cell_type": "code",
   "execution_count": 26,
   "metadata": {},
   "outputs": [
    {
     "name": "stdout",
     "output_type": "stream",
     "text": [
      "number is zero\n"
     ]
    }
   ],
   "source": [
    "value = input(\"Enter a number\")\n",
    "\n",
    "if not value.isdigit():\n",
    "    print(\"Please enter a number\")\n",
    "else:\n",
    "    if int(value) == 0:\n",
    "        print(\"number is zero\")\n",
    "    elif int(value) % 2 == 0:\n",
    "        print(\"number is even\")\n",
    "    else:\n",
    "        print(\"number is odd\")"
   ]
  }
 ],
 "metadata": {
  "kernelspec": {
   "display_name": "datasci_env",
   "language": "python",
   "name": "python3"
  },
  "language_info": {
   "codemirror_mode": {
    "name": "ipython",
    "version": 3
   },
   "file_extension": ".py",
   "mimetype": "text/x-python",
   "name": "python",
   "nbconvert_exporter": "python",
   "pygments_lexer": "ipython3",
   "version": "3.8.20"
  }
 },
 "nbformat": 4,
 "nbformat_minor": 4
}
